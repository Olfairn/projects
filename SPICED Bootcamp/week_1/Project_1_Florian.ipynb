{
 "metadata": {
  "language_info": {
   "codemirror_mode": {
    "name": "ipython",
    "version": 3
   },
   "file_extension": ".py",
   "mimetype": "text/x-python",
   "name": "python",
   "nbconvert_exporter": "python",
   "pygments_lexer": "ipython3",
   "version": "3.8.3-final"
  },
  "orig_nbformat": 2,
  "kernelspec": {
   "name": "python3",
   "display_name": "Python 3"
  }
 },
 "nbformat": 4,
 "nbformat_minor": 2,
 "cells": [
  {
   "cell_type": "code",
   "execution_count": 2,
   "metadata": {},
   "outputs": [],
   "source": [
    "import pandas as pd\n",
    "import seaborn as sns\n",
    "import matplotlib.pyplot as plt\n",
    "import imageio"
   ]
  },
  {
   "cell_type": "code",
   "execution_count": 3,
   "metadata": {},
   "outputs": [],
   "source": [
    "continents = pd.read_csv('/Users/Flo/spiced_projects/gapminder_project/data/continents.csv',sep=';')\n",
    "life_exp = pd.read_excel('/Users/Flo/spiced_projects/gapminder_project/data/gapminder_lifeexpectancy.xlsx')\n",
    "pop = pd.read_excel('/Users/Flo/spiced_projects/gapminder_project/data/gapminder_population.xlsx')\n",
    "fertility = pd.read_csv('/Users/Flo/spiced_projects/gapminder_project/data/gapminder_total_fertility.csv')"
   ]
  },
  {
   "cell_type": "code",
   "execution_count": 5,
   "metadata": {},
   "outputs": [],
   "source": [
    "#Transform the .xlsx to .csv for consistency in data\n",
    "life_exp.to_csv('data/life_exp.csv',encoding='utf-8',index=False)\n",
    "pop.to_csv('data/pop.csv',encoding='utf-8',index=False)\n",
    "\n",
    "life_exp = pd.read_csv('life_exp.csv')\n",
    "pop = pd.read_csv('pop.csv')\n"
   ]
  },
  {
   "cell_type": "code",
   "execution_count": 5,
   "metadata": {},
   "outputs": [
    {
     "output_type": "execute_result",
     "data": {
      "text/plain": [
       "    Total fertility rate  1800  1801  1802  1803  1804  1805  1806  1807  \\\n",
       "0               Abkhazia   NaN   NaN   NaN   NaN   NaN   NaN   NaN   NaN   \n",
       "1            Afghanistan  7.00  7.00  7.00  7.00  7.00  7.00  7.00  7.00   \n",
       "2  Akrotiri and Dhekelia   NaN   NaN   NaN   NaN   NaN   NaN   NaN   NaN   \n",
       "3                Albania  4.60  4.60  4.60  4.60  4.60  4.60  4.60  4.60   \n",
       "4                Algeria  6.99  6.99  6.99  6.99  6.99  6.99  6.99  6.99   \n",
       "\n",
       "   1808  ...  2006  2007  2008  2009  2010  2011  2012  2013  2014  2015  \n",
       "0   NaN  ...   NaN   NaN   NaN   NaN   NaN   NaN   NaN   NaN   NaN   NaN  \n",
       "1  7.00  ...  6.70  6.46  6.20  5.93  5.66  5.40  5.14  4.90  4.68  4.47  \n",
       "2   NaN  ...   NaN   NaN   NaN   NaN   NaN   NaN   NaN   NaN   NaN   NaN  \n",
       "3  4.60  ...  1.85  1.80  1.76  1.74  1.74  1.75  1.76  1.77  1.78  1.78  \n",
       "4  6.99  ...  2.58  2.66  2.73  2.78  2.82  2.83  2.82  2.80  2.76  2.71  \n",
       "\n",
       "[5 rows x 217 columns]"
      ],
      "text/html": "<div>\n<style scoped>\n    .dataframe tbody tr th:only-of-type {\n        vertical-align: middle;\n    }\n\n    .dataframe tbody tr th {\n        vertical-align: top;\n    }\n\n    .dataframe thead th {\n        text-align: right;\n    }\n</style>\n<table border=\"1\" class=\"dataframe\">\n  <thead>\n    <tr style=\"text-align: right;\">\n      <th></th>\n      <th>Total fertility rate</th>\n      <th>1800</th>\n      <th>1801</th>\n      <th>1802</th>\n      <th>1803</th>\n      <th>1804</th>\n      <th>1805</th>\n      <th>1806</th>\n      <th>1807</th>\n      <th>1808</th>\n      <th>...</th>\n      <th>2006</th>\n      <th>2007</th>\n      <th>2008</th>\n      <th>2009</th>\n      <th>2010</th>\n      <th>2011</th>\n      <th>2012</th>\n      <th>2013</th>\n      <th>2014</th>\n      <th>2015</th>\n    </tr>\n  </thead>\n  <tbody>\n    <tr>\n      <th>0</th>\n      <td>Abkhazia</td>\n      <td>NaN</td>\n      <td>NaN</td>\n      <td>NaN</td>\n      <td>NaN</td>\n      <td>NaN</td>\n      <td>NaN</td>\n      <td>NaN</td>\n      <td>NaN</td>\n      <td>NaN</td>\n      <td>...</td>\n      <td>NaN</td>\n      <td>NaN</td>\n      <td>NaN</td>\n      <td>NaN</td>\n      <td>NaN</td>\n      <td>NaN</td>\n      <td>NaN</td>\n      <td>NaN</td>\n      <td>NaN</td>\n      <td>NaN</td>\n    </tr>\n    <tr>\n      <th>1</th>\n      <td>Afghanistan</td>\n      <td>7.00</td>\n      <td>7.00</td>\n      <td>7.00</td>\n      <td>7.00</td>\n      <td>7.00</td>\n      <td>7.00</td>\n      <td>7.00</td>\n      <td>7.00</td>\n      <td>7.00</td>\n      <td>...</td>\n      <td>6.70</td>\n      <td>6.46</td>\n      <td>6.20</td>\n      <td>5.93</td>\n      <td>5.66</td>\n      <td>5.40</td>\n      <td>5.14</td>\n      <td>4.90</td>\n      <td>4.68</td>\n      <td>4.47</td>\n    </tr>\n    <tr>\n      <th>2</th>\n      <td>Akrotiri and Dhekelia</td>\n      <td>NaN</td>\n      <td>NaN</td>\n      <td>NaN</td>\n      <td>NaN</td>\n      <td>NaN</td>\n      <td>NaN</td>\n      <td>NaN</td>\n      <td>NaN</td>\n      <td>NaN</td>\n      <td>...</td>\n      <td>NaN</td>\n      <td>NaN</td>\n      <td>NaN</td>\n      <td>NaN</td>\n      <td>NaN</td>\n      <td>NaN</td>\n      <td>NaN</td>\n      <td>NaN</td>\n      <td>NaN</td>\n      <td>NaN</td>\n    </tr>\n    <tr>\n      <th>3</th>\n      <td>Albania</td>\n      <td>4.60</td>\n      <td>4.60</td>\n      <td>4.60</td>\n      <td>4.60</td>\n      <td>4.60</td>\n      <td>4.60</td>\n      <td>4.60</td>\n      <td>4.60</td>\n      <td>4.60</td>\n      <td>...</td>\n      <td>1.85</td>\n      <td>1.80</td>\n      <td>1.76</td>\n      <td>1.74</td>\n      <td>1.74</td>\n      <td>1.75</td>\n      <td>1.76</td>\n      <td>1.77</td>\n      <td>1.78</td>\n      <td>1.78</td>\n    </tr>\n    <tr>\n      <th>4</th>\n      <td>Algeria</td>\n      <td>6.99</td>\n      <td>6.99</td>\n      <td>6.99</td>\n      <td>6.99</td>\n      <td>6.99</td>\n      <td>6.99</td>\n      <td>6.99</td>\n      <td>6.99</td>\n      <td>6.99</td>\n      <td>...</td>\n      <td>2.58</td>\n      <td>2.66</td>\n      <td>2.73</td>\n      <td>2.78</td>\n      <td>2.82</td>\n      <td>2.83</td>\n      <td>2.82</td>\n      <td>2.80</td>\n      <td>2.76</td>\n      <td>2.71</td>\n    </tr>\n  </tbody>\n</table>\n<p>5 rows × 217 columns</p>\n</div>"
     },
     "metadata": {},
     "execution_count": 5
    }
   ],
   "source": [
    "# Have a look at the data\n",
    "continents.head()\n",
    "life_exp.head()\n",
    "pop.head()\n",
    "fertility.head()\n"
   ]
  },
  {
   "cell_type": "code",
   "execution_count": 6,
   "metadata": {},
   "outputs": [],
   "source": [
    "# Drop the countries with too little data. Threshold based on trial and error, to keep the majority of the data\n",
    "\n",
    "fertility.dropna(thresh= round(len(fertility) * 0.80),inplace=True)\n",
    "pop.dropna(thresh= round(len(pop) * 0.30),inplace=True)\n",
    "life_exp.dropna(thresh= round(len(life_exp) * 0.80),inplace=True)"
   ]
  },
  {
   "cell_type": "code",
   "execution_count": 8,
   "metadata": {},
   "outputs": [],
   "source": [
    "# Set index\n",
    "life_exp.set_index('Life expectancy',inplace=True)\n",
    "pop.set_index('Total population',inplace=True)\n",
    "fertility.set_index('Total fertility rate',inplace=True)"
   ]
  },
  {
   "cell_type": "code",
   "execution_count": 9,
   "metadata": {},
   "outputs": [],
   "source": [
    "# Keep 2000 and rename to keep data type\n",
    "for year in pop.columns:\n",
    "    # Keep only one col and rename to keep data name\n",
    "    life_exp_var = life_exp[[f'{year}']]\n",
    "    life_exp_var.columns = ['Life expectancy']\n",
    "    pop_var = pop[[f'{year}']]\n",
    "    pop_var.columns = ['Total population']\n",
    "    fer_var = fertility[[f'{year}']]\n",
    "    fer_var.columns = ['Total fertility']\n",
    "    #Concat everything\n",
    "    concat_var = pd.concat([life_exp_var,pop_var,fer_var],axis=1,join='inner')\n",
    "    # Join continents\n",
    "    Full_var = continents.merge(concat_var,how='left',left_on='country',right_index=True)\n",
    "    #Plot\n",
    "    sns.set_context(\"talk\", font_scale=0.8)\n",
    "    plt.figure(figsize=(10,6))\n",
    "    sns.scatterplot(data=Full_var,\n",
    "                    x='Life expectancy',\n",
    "                    y='Total fertility',\n",
    "                    hue='continent',\n",
    "                    size='Total population',\n",
    "                    sizes=(50,5000),\n",
    "                    alpha=.75,)\n",
    "    plt.legend(bbox_to_anchor=(1.05, 1),borderaxespad=0)\n",
    "    plt.title('Life expectancy over fertility rate in ' f'{year}')\n",
    "    plt.axis((15,85,0.8,8))\n",
    "    plt.savefig('Figure/'f'{year}''.jpg',dpi=100)\n",
    "    plt.close()"
   ]
  },
  {
   "cell_type": "code",
   "execution_count": 15,
   "metadata": {},
   "outputs": [
    {
     "output_type": "error",
     "ename": "NameError",
     "evalue": "name 'i' is not defined",
     "traceback": [
      "\u001b[1;31m---------------------------------------------------------------------------\u001b[0m",
      "\u001b[1;31mNameError\u001b[0m                                 Traceback (most recent call last)",
      "\u001b[1;32m<ipython-input-15-89091d751975>\u001b[0m in \u001b[0;36m<module>\u001b[1;34m\u001b[0m\n\u001b[0;32m      2\u001b[0m \u001b[1;33m\u001b[0m\u001b[0m\n\u001b[0;32m      3\u001b[0m \u001b[1;32mfor\u001b[0m \u001b[0myear\u001b[0m \u001b[1;32min\u001b[0m \u001b[0mpop\u001b[0m\u001b[1;33m.\u001b[0m\u001b[0mcolumns\u001b[0m\u001b[1;33m:\u001b[0m\u001b[1;33m\u001b[0m\u001b[1;33m\u001b[0m\u001b[0m\n\u001b[1;32m----> 4\u001b[1;33m     \u001b[0mfilename\u001b[0m \u001b[1;33m=\u001b[0m \u001b[1;34m'Figure/'\u001b[0m\u001b[1;34mf'{year}'\u001b[0m\u001b[1;34m'.jpg'\u001b[0m\u001b[1;33m.\u001b[0m\u001b[0mformat\u001b[0m\u001b[1;33m(\u001b[0m\u001b[0mi\u001b[0m\u001b[1;33m)\u001b[0m\u001b[1;33m\u001b[0m\u001b[1;33m\u001b[0m\u001b[0m\n\u001b[0m\u001b[0;32m      5\u001b[0m     \u001b[0mimages\u001b[0m\u001b[1;33m.\u001b[0m\u001b[0mappend\u001b[0m\u001b[1;33m(\u001b[0m\u001b[0mimageio\u001b[0m\u001b[1;33m.\u001b[0m\u001b[0mimread\u001b[0m\u001b[1;33m(\u001b[0m\u001b[0mfilename\u001b[0m\u001b[1;33m)\u001b[0m\u001b[1;33m)\u001b[0m\u001b[1;33m\u001b[0m\u001b[1;33m\u001b[0m\u001b[0m\n\u001b[0;32m      6\u001b[0m \u001b[1;33m\u001b[0m\u001b[0m\n",
      "\u001b[1;31mNameError\u001b[0m: name 'i' is not defined"
     ]
    }
   ],
   "source": [
    "images = []\n",
    "\n",
    "for year in pop.columns:\n",
    "    filename = 'Figure/'f'{year}''.jpg'.format(i)\n",
    "    images.append(imageio.imread(filename))\n",
    "\n",
    "imageio.mimsave('Gapminder_Project_Florian.gif', images, fps=7)\n",
    "\n",
    "#I moved the file and it now through an error, I don't understand why and I don't have the time to fix it "
   ]
  }
 ]
}